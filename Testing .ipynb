{
 "cells": [
  {
   "cell_type": "code",
   "execution_count": 1,
   "id": "967c1a5e",
   "metadata": {},
   "outputs": [
    {
     "name": "stdout",
     "output_type": "stream",
     "text": [
      "Using cpu device\n"
     ]
    }
   ],
   "source": [
    "import numpy as np\n",
    "import matplotlib.pyplot as plt\n",
    "\n",
    "import torch\n",
    "import sklearn\n",
    "import torch.nn as nn\n",
    "import torch.optim as optim\n",
    "import torch.utils.data as data\n",
    "from torch.utils.data import Dataset, DataLoader\n",
    "from torchvision import transforms\n",
    "from PIL import Image\n",
    "from preprocessor import MNIST_Dataset\n",
    "from preprocessor import compute_accuracy\n",
    "from preprocessor import train\n",
    "from preprocessor import train2\n",
    "\n",
    "device = \"cuda\" if torch.cuda.is_available() else \"cpu\"\n",
    "print(\"Using {} device\".format(device))"
   ]
  },
  {
   "cell_type": "code",
   "execution_count": 2,
   "id": "9597713c",
   "metadata": {},
   "outputs": [
    {
     "data": {
      "text/plain": [
       "(60000, 48000, 12000, 10000)"
      ]
     },
     "execution_count": 2,
     "metadata": {},
     "output_type": "execute_result"
    }
   ],
   "source": [
    "batch_size = 64\n",
    "mnist_real_train = MNIST_Dataset(\"MNIST/processed/training.pt\")\n",
    "\n",
    "mnist_train, mnist_validation = data.random_split(mnist_real_train, (48000, 12000))\n",
    "\n",
    "\n",
    "train_dataloader = DataLoader(mnist_train, batch_size=batch_size)\n",
    "validation_dataloader = DataLoader(mnist_validation, batch_size=batch_size)\n",
    "\n",
    "mnist_test = MNIST_Dataset(\"MNIST/processed/test.pt\")\n",
    "test_dataloader = DataLoader(mnist_test, batch_size=batch_size)\n",
    "\n",
    "len(mnist_real_train), len(mnist_train), len(mnist_validation), len(mnist_test)"
   ]
  },
  {
   "cell_type": "code",
   "execution_count": null,
   "id": "575c81ad",
   "metadata": {},
   "outputs": [],
   "source": []
  },
  {
   "cell_type": "markdown",
   "id": "872df3ed",
   "metadata": {},
   "source": [
    "Classifier 1 "
   ]
  },
  {
   "cell_type": "code",
   "execution_count": 4,
   "id": "85357761",
   "metadata": {},
   "outputs": [
    {
     "name": "stdout",
     "output_type": "stream",
     "text": [
      "SimpleFeedForwardNetwork(\n",
      "  (flatten): Flatten(start_dim=1, end_dim=-1)\n",
      "  (linear_stack): Sequential(\n",
      "    (0): Linear(in_features=784, out_features=512, bias=True)\n",
      "    (1): Tanh()\n",
      "    (2): Linear(in_features=512, out_features=512, bias=True)\n",
      "    (3): Tanh()\n",
      "    (4): Linear(in_features=512, out_features=10, bias=True)\n",
      "    (5): Tanh()\n",
      "  )\n",
      ")\n"
     ]
    }
   ],
   "source": [
    "from Classifier_1 import SimpleFeedForwardNetwork\n",
    "modelC1 = SimpleFeedForwardNetwork().to(device)\n",
    "print(modelC1)\n",
    "opt = optim.Adam(modelC1.parameters())\n",
    "cost = torch.nn.CrossEntropyLoss()\n",
    "train(mnist_train, mnist_validation,modelC1,cost,opt,n_epoch = 50)\n"
   ]
  },
  {
   "cell_type": "code",
   "execution_count": 19,
   "id": "0353054e",
   "metadata": {},
   "outputs": [
    {
     "name": "stdout",
     "output_type": "stream",
     "text": [
      "9762 out of 10000 correct\n",
      "97.61999999999999 %\n"
     ]
    }
   ],
   "source": [
    "#this functionality was inspiried by the example in pytorch documentation https://pytorch.org/tutorials/beginner/blitz/cifar10_tutorial.html\n",
    "corr = 0\n",
    "tot = 0 \n",
    "with torch.no_grad(): \n",
    "    for data in test_dataloader: \n",
    "        images, labels = data\n",
    "        outputs = modelC1(images)\n",
    "        _, predicted = torch.max(outputs.data, 1)\n",
    "        tot += labels.size(0)\n",
    "        corr += (predicted == labels).sum().item()\n",
    "print(corr, \"out of\", tot, \"correct\")    \n",
    "print((corr/tot)*100,'%')"
   ]
  },
  {
   "cell_type": "markdown",
   "id": "a0930262",
   "metadata": {},
   "source": [
    "Classifier 2 "
   ]
  },
  {
   "cell_type": "code",
   "execution_count": 32,
   "id": "856afef0",
   "metadata": {},
   "outputs": [
    {
     "name": "stdout",
     "output_type": "stream",
     "text": [
      "FeedForwardNetwork(\n",
      "  (flatten): Flatten(start_dim=1, end_dim=-1)\n",
      "  (linear_relu_stack): Sequential(\n",
      "    (0): Linear(in_features=784, out_features=512, bias=True)\n",
      "    (1): ReLU()\n",
      "    (2): Linear(in_features=512, out_features=512, bias=True)\n",
      "    (3): ReLU()\n",
      "    (4): Linear(in_features=512, out_features=10, bias=True)\n",
      "    (5): ReLU()\n",
      "  )\n",
      ")\n"
     ]
    }
   ],
   "source": [
    "from Classifier_2 import FeedForwardNetwork\n",
    "modelC2 = FeedForwardNetwork().to(device)\n",
    "print(modelC2)\n",
    "opt = optim.Adam(modelC2.parameters())\n",
    "cost = torch.nn.CrossEntropyLoss()\n",
    "train(mnist_train, mnist_validation,modelC2,cost,opt,n_epoch = 100)"
   ]
  },
  {
   "cell_type": "code",
   "execution_count": 33,
   "id": "b1d5791a",
   "metadata": {},
   "outputs": [
    {
     "name": "stdout",
     "output_type": "stream",
     "text": [
      "6842 out of 10000 correct\n",
      "68.42 %\n"
     ]
    }
   ],
   "source": [
    "corr = 0\n",
    "tot = 0 \n",
    "with torch.no_grad(): \n",
    "    for data in test_dataloader: \n",
    "        images, labels = data\n",
    "        outputs = modelC2(images)\n",
    "        _, predicted = torch.max(outputs.data, 1)\n",
    "        tot += labels.size(0)\n",
    "        corr += (predicted == labels).sum().item()\n",
    "print(corr, \"out of\", tot, \"correct\")    \n",
    "print((corr/tot)*100,'%')"
   ]
  },
  {
   "cell_type": "markdown",
   "id": "2ef55163",
   "metadata": {},
   "source": [
    "Classifier 3 "
   ]
  },
  {
   "cell_type": "code",
   "execution_count": 34,
   "id": "9e398bdb",
   "metadata": {},
   "outputs": [
    {
     "name": "stdout",
     "output_type": "stream",
     "text": [
      "MultiLayerFeedForwardNetwork(\n",
      "  (flatten): Flatten(start_dim=1, end_dim=-1)\n",
      "  (linear_stack): Sequential(\n",
      "    (0): Linear(in_features=784, out_features=512, bias=True)\n",
      "    (1): Sigmoid()\n",
      "    (2): Linear(in_features=512, out_features=512, bias=True)\n",
      "    (3): Sigmoid()\n",
      "    (4): Linear(in_features=512, out_features=512, bias=True)\n",
      "    (5): Sigmoid()\n",
      "    (6): Linear(in_features=512, out_features=512, bias=True)\n",
      "    (7): Sigmoid()\n",
      "    (8): Linear(in_features=512, out_features=10, bias=True)\n",
      "    (9): Softmax(dim=1)\n",
      "  )\n",
      ")\n"
     ]
    }
   ],
   "source": [
    "from Classifier_3 import MultiLayerFeedForwardNetwork\n",
    "modelC3 = MultiLayerFeedForwardNetwork().to(device)\n",
    "print(modelC3)\n",
    "opt = optim.SGD(modelC3.parameters(), lr=0.1, momentum=0.9)\n",
    "cost = torch.nn.CrossEntropyLoss()\n",
    "train(mnist_train, mnist_validation,modelC3,cost,opt,n_epoch = 100)"
   ]
  },
  {
   "cell_type": "code",
   "execution_count": 35,
   "id": "accb9cda",
   "metadata": {},
   "outputs": [
    {
     "name": "stdout",
     "output_type": "stream",
     "text": [
      "6842 out of 10000 correct\n",
      "68.42 %\n"
     ]
    }
   ],
   "source": [
    "corr = 0\n",
    "tot = 0 \n",
    "with torch.no_grad(): \n",
    "    for data in test_dataloader: \n",
    "        images, labels = data\n",
    "        outputs = modelC2(images)\n",
    "        _, predicted = torch.max(outputs.data, 1)\n",
    "        tot += labels.size(0)\n",
    "        corr += (predicted == labels).sum().item()\n",
    "print(corr, \"out of\", tot, \"correct\")    \n",
    "print((corr/tot)*100,'%')"
   ]
  },
  {
   "cell_type": "markdown",
   "id": "d0c8e3e6",
   "metadata": {},
   "source": [
    "Classifier 4"
   ]
  },
  {
   "cell_type": "code",
   "execution_count": 27,
   "id": "9094d3ce",
   "metadata": {},
   "outputs": [
    {
     "name": "stdout",
     "output_type": "stream",
     "text": [
      "ConvNeuralNetwork(\n",
      "  (flatten): Flatten(start_dim=1, end_dim=-1)\n",
      "  (layers): Sequential(\n",
      "    (0): Conv2d(1, 5, kernel_size=(3, 3), stride=(1, 1), padding=(1, 1))\n",
      "    (1): LeakyReLU(negative_slope=0.01)\n",
      "    (2): MaxPool2d(kernel_size=3, stride=3, padding=1, dilation=1, ceil_mode=False)\n",
      "    (3): Flatten(start_dim=1, end_dim=-1)\n",
      "    (4): Linear(in_features=500, out_features=10, bias=True)\n",
      "  )\n",
      ")\n"
     ]
    }
   ],
   "source": [
    "from Classifier_4 import ConvNeuralNetwork\n",
    "modelC4 = ConvNeuralNetwork().to(device)\n",
    "print(modelC4)\n",
    "opt = optim.Adam(modelC4.parameters())\n",
    "cost = torch.nn.CrossEntropyLoss()\n",
    "train2(mnist_train, mnist_validation,modelC4,cost,opt,n_epoch=100)"
   ]
  },
  {
   "cell_type": "code",
   "execution_count": 28,
   "id": "b70e4658",
   "metadata": {},
   "outputs": [
    {
     "name": "stdout",
     "output_type": "stream",
     "text": [
      "9732 out of 10000 correct\n",
      "97.32 %\n"
     ]
    }
   ],
   "source": [
    "corr = 0\n",
    "tot = 0 \n",
    "with torch.no_grad(): \n",
    "    for data in test_dataloader: \n",
    "        images, labels = data\n",
    "        outputs = modelC4(images)\n",
    "        _, predicted = torch.max(outputs.data, 1)\n",
    "        tot += labels.size(0)\n",
    "        corr += (predicted == labels).sum().item()\n",
    "print(corr, \"out of\", tot, \"correct\")    \n",
    "print((corr/tot)*100,'%')"
   ]
  },
  {
   "cell_type": "markdown",
   "id": "dd95e57e",
   "metadata": {},
   "source": [
    "Classifier 5"
   ]
  },
  {
   "cell_type": "code",
   "execution_count": 29,
   "id": "a113e5d6",
   "metadata": {},
   "outputs": [
    {
     "name": "stdout",
     "output_type": "stream",
     "text": [
      "CNNDropNet(\n",
      "  (layers): Sequential(\n",
      "    (0): Conv2d(1, 5, kernel_size=(3, 3), stride=(1, 1), padding=(1, 1))\n",
      "    (1): LeakyReLU(negative_slope=0.01)\n",
      "    (2): MaxPool2d(kernel_size=3, stride=3, padding=1, dilation=1, ceil_mode=False)\n",
      "    (3): Flatten(start_dim=1, end_dim=-1)\n",
      "    (4): Dropout(p=0.2, inplace=False)\n",
      "    (5): Linear(in_features=500, out_features=10, bias=True)\n",
      "  )\n",
      ")\n"
     ]
    }
   ],
   "source": [
    "from Classifier_5 import CNNDropNet\n",
    "modelC5 = CNNDropNet().to(device)\n",
    "print(modelC5)\n",
    "opt = optim.Adam(modelC5.parameters())\n",
    "cost = torch.nn.CrossEntropyLoss()\n",
    "train2(mnist_train, mnist_validation,modelC5,cost,opt,n_epoch=100)"
   ]
  },
  {
   "cell_type": "code",
   "execution_count": 23,
   "id": "d64d2b25",
   "metadata": {},
   "outputs": [
    {
     "name": "stdout",
     "output_type": "stream",
     "text": [
      "9774 out of 10000 correct\n",
      "97.74000000000001 %\n"
     ]
    }
   ],
   "source": [
    "corr = 0\n",
    "tot = 0 \n",
    "with torch.no_grad(): \n",
    "    for data in test_dataloader: \n",
    "        images, labels = data\n",
    "        outputs = modelC5(images)\n",
    "        _, predicted = torch.max(outputs.data, 1)\n",
    "        tot += labels.size(0)\n",
    "        corr += (predicted == labels).sum().item()\n",
    "print(corr, \"out of\", tot, \"correct\")    \n",
    "print((corr/tot)*100,'%')"
   ]
  },
  {
   "cell_type": "markdown",
   "id": "e740c486",
   "metadata": {},
   "source": [
    "K-Fold testing implementation "
   ]
  },
  {
   "cell_type": "code",
   "execution_count": 9,
   "id": "75006621",
   "metadata": {},
   "outputs": [],
   "source": [
    "from sklearn.model_selection import KFold\n",
    "from torch.utils.data import DataLoader, ConcatDataset"
   ]
  },
  {
   "cell_type": "code",
   "execution_count": 13,
   "id": "1c328d28",
   "metadata": {},
   "outputs": [
    {
     "ename": "IndentationError",
     "evalue": "expected an indented block (2081724090.py, line 129)",
     "output_type": "error",
     "traceback": [
      "\u001b[0;36m  Input \u001b[0;32mIn [13]\u001b[0;36m\u001b[0m\n\u001b[0;31m    print(f'Fold {key}: {value} %')\u001b[0m\n\u001b[0m    ^\u001b[0m\n\u001b[0;31mIndentationError\u001b[0m\u001b[0;31m:\u001b[0m expected an indented block\n"
     ]
    }
   ],
   "source": [
    "\n"
   ]
  }
 ],
 "metadata": {
  "kernelspec": {
   "display_name": "Python 3 (ipykernel)",
   "language": "python",
   "name": "python3"
  },
  "language_info": {
   "codemirror_mode": {
    "name": "ipython",
    "version": 3
   },
   "file_extension": ".py",
   "mimetype": "text/x-python",
   "name": "python",
   "nbconvert_exporter": "python",
   "pygments_lexer": "ipython3",
   "version": "3.9.10"
  }
 },
 "nbformat": 4,
 "nbformat_minor": 5
}
